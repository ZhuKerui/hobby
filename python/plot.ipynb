{
 "cells": [
  {
   "cell_type": "markdown",
   "metadata": {},
   "source": [
    "# seaborn"
   ]
  },
  {
   "cell_type": "markdown",
   "metadata": {},
   "source": [
    "## barplot"
   ]
  },
  {
   "cell_type": "code",
   "execution_count": null,
   "metadata": {},
   "outputs": [],
   "source": [
    "import pandas as pd\n",
    "import matplotlib.pyplot as plt\n",
    "import seaborn as sns\n",
    "\n",
    "plt.rcParams.update({'font.size': 20, 'font.weight': 'bold'})\n",
    "df1 = pd.DataFrame({'Answer type': ['Node', 'Pair', 'Count', 'Bool', 'Path', 'Graph', 'LP'] * 4 * 3,\n",
    "                   'Score': \n",
    "                        [86.62, 74.21, 59.36, 100.00, 71.32, 68.67, 100.00] + [86.82, 77.50, 64.36, 99.58, 75.27, 81.43, 78.75] + \n",
    "                        [92.72, 86.78, 64.43, 99.48, 80.89, 85.12, 100.00] + [93.72, 87.61, 69.73, 99.79, 83.55, 89.30, 86.27] + \n",
    "                        [93.69, 82.97, 62.60, 100.00, 81.07, 84.22, 100.00] + [93.79, 86.37, 69.19, 99.16, 78.43, 87.23, 79.28] + \n",
    "                        \n",
    "                        [74.84, 65.64, 33.59, 92.96, 34.17, 62.10, 55.05] + [67.66, 63.88, 28.88, 96.65, 35.16, 78.69, 35.75] + \n",
    "                        [87.06, 78.39, 37.12, 97.97, 43.42, 81.53, 28.44] + [75.78, 75.56, 32.15, 98.53, 53.67, 78.95, 55.31] + \n",
    "                        [87.19, 75.69, 37.36, 98.47, 50.30, 71.94, 47.25] + [84.98, 69.81, 34.30, 98.12, 48.35, 79.07, 54.19],\n",
    "                   'Type': ['Seen'] * 7 * 6 + ['Unseen'] * 7 * 6,\n",
    "                   'Model': ['Llama-2-GraphInst'] * 7 * 2 + ['Mistral-GraphInst'] * 7 * 2 + ['Gemma-GraphInst'] * 7 * 2 + ['Llama-2-GraphInst'] * 7 * 2 + ['Mistral-GraphInst'] * 7 * 2 + ['Gemma-GraphInst'] * 7 * 2,\n",
    "                   'Dataset': ['Amazon'] * 7 + ['Maple'] * 7 + ['Amazon'] * 7 + ['Maple'] * 7 + ['Amazon'] * 7 + ['Maple'] * 7 + ['Amazon'] * 7 + ['Maple'] * 7 + ['Amazon'] * 7 + ['Maple'] * 7 + ['Amazon'] * 7 + ['Maple'] * 7\n",
    "                   })\n",
    "sns.set_theme()\n",
    "g = sns.FacetGrid(df1, col='Dataset', row='Model', margin_titles=True, height=4.5, aspect=3)\n",
    "g.set_titles(col_template=\"{col_name}\", row_template=\"{row_name}\", size=25, weight='bold')\n",
    "g.map(sns.barplot, 'Answer type', 'Score', 'Type', \n",
    "      order=['Node', 'Pair', 'Count', 'Bool', 'Path', 'Graph', 'LP'], \n",
    "      hue_order=['Seen', 'Unseen'],\n",
    "      palette={'Seen': '#1f77b4', 'Unseen': '#ff7f0e'})\n",
    "g.add_legend(fontsize=25)\n",
    "plt.setp(g.legend.get_title(), fontsize=25)\n",
    "g.set_xlabels(fontsize=25, fontweight='bold')\n",
    "g.set_ylabels(fontsize=25, fontweight='bold')\n",
    "g.tick_params(axis='both', labelsize=25)\n",
    "g.savefig('sub_task_gen.pdf')"
   ]
  },
  {
   "cell_type": "code",
   "execution_count": null,
   "metadata": {},
   "outputs": [],
   "source": [
    "plt.rcParams['axes.prop_cycle']"
   ]
  },
  {
   "cell_type": "code",
   "execution_count": null,
   "metadata": {},
   "outputs": [],
   "source": [
    "df = pd.DataFrame({\n",
    "    'Training Domain': ['Amazon', 'Maple', 'Maple', 'Amazon'] * 3,\n",
    "    'Test Domain': ['Amazon', 'Amazon', 'Maple', 'Maple'] * 3,\n",
    "    'Score': [61.22, 50.60, 59.90, 53.47] + [71.51, 67.84, 67.39, 65.98] + [70.84, 66.31, 68.87, 69.36],\n",
    "    'Model': ['Llama-2-GraphInst'] * 4 + ['Mistral-GraphInst'] * 4 + ['Gemma-GraphInst'] * 4\n",
    "})\n",
    "\n",
    "g = sns.FacetGrid(df, col='Model', height=3)\n",
    "g.set_titles(col_template=\"{col_name}\", row_template=\"{row_name}\", size=15, weight='bold')\n",
    "g.map(sns.barplot, 'Test Domain', 'Score', 'Training Domain',\n",
    "      order=['Amazon', 'Maple'], \n",
    "      hue_order=['Amazon', 'Maple'],\n",
    "      palette={'Amazon': '#1f77b4', 'Maple': '#ff7f0e'})\n",
    "plt.ylim(45, 75)\n",
    "g.add_legend(title='Training Domain')\n",
    "for ax in g.axes[0]:\n",
    "    for c in ax.containers:\n",
    "        ax.bar_label(c, fontweight='bold', fontsize=10)\n",
    "g.set_xlabels(fontweight='bold')\n",
    "g.set_ylabels(fontweight='bold')\n",
    "# g.tick_params(axis='both', weight='bold')\n",
    "\n",
    "g.savefig('domain_gen.pdf')"
   ]
  },
  {
   "cell_type": "code",
   "execution_count": null,
   "metadata": {},
   "outputs": [],
   "source": [
    "import pandas as pd\n",
    "import matplotlib.pyplot as plt\n",
    "import seaborn as sns\n",
    "\n",
    "sns.set_theme()\n",
    "plt.rcParams.update({'font.size': 14, 'font.weight': 'bold'})\n",
    "\n",
    "df = pd.DataFrame({'Model Scale': ['Llama-2-GraphInst-7b'] * 3 + ['Llama-2-GraphInst-13b'] * 3,\n",
    "                   'Graph Representation': ['NL', 'JSON', 'DOT'] * 2,\n",
    "                   'Avg. Performance': [67.26, 69.46, 64.69, 70.15, 72.76, 70.34]})\n",
    "\n",
    "sns.barplot(df, x='Model Scale', y='Avg. Performance', hue='Graph Representation', palette={'NL': '#1f77b4', 'JSON': '#ff7f0e', 'DOT': '#2ca02c'})\n",
    "plt.ylim(63, 75)\n",
    "plt.xlabel('Model Scale', fontweight='bold')\n",
    "plt.ylabel('Avg. Performance', fontweight='bold')\n",
    "plt.savefig('representation-scaleup.pdf', dpi=300, format='pdf')\n",
    "plt.show()"
   ]
  }
 ],
 "metadata": {
  "language_info": {
   "name": "python"
  }
 },
 "nbformat": 4,
 "nbformat_minor": 2
}
